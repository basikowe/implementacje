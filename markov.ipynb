{
  "nbformat": 4,
  "nbformat_minor": 0,
  "metadata": {
    "colab": {
      "name": "markov.ipynb",
      "provenance": [],
      "collapsed_sections": [],
      "include_colab_link": true
    },
    "kernelspec": {
      "name": "python3",
      "display_name": "Python 3"
    }
  },
  "cells": [
    {
      "cell_type": "markdown",
      "metadata": {
        "id": "view-in-github",
        "colab_type": "text"
      },
      "source": [
        "<a href=\"https://colab.research.google.com/github/lodygaw/przykladowe_implementacje/blob/master/markov.ipynb\" target=\"_parent\"><img src=\"https://colab.research.google.com/assets/colab-badge.svg\" alt=\"Open In Colab\"/></a>"
      ]
    },
    {
      "cell_type": "code",
      "metadata": {
        "colab_type": "code",
        "outputId": "e793bddb-b36c-442a-89fd-23e72de61204",
        "id": "cx_6GjsADyTf",
        "colab": {
          "base_uri": "https://localhost:8080/",
          "height": 34
        }
      },
      "source": [
        "\n",
        "import numpy as np\n",
        "\n",
        "#wczytanie do programu tekstu Pana Tadeusza\n",
        "tadeusz = open('pan_tadeusz.txt', encoding='utf8').read()\n",
        "\n",
        "#podzielenie tekstu na poszczególne \"słowa\"\n",
        "slowa = tadeusz.split()\n",
        "\n",
        "# połączenie słów w pary\n",
        "pairs = []\n",
        "for i in range(len(slowa)-1):\n",
        "  pairs.append([slowa[i],slowa[i+1]])\n",
        "  \n",
        "\n",
        "#stworzenie słownika z prefiksami i suffiksami\n",
        "word_dict = {}\n",
        "for word_1, word_2 in pairs:\n",
        "  if word_1 in word_dict.keys():\n",
        "    word_dict[word_1].append(word_2)\n",
        "  else:\n",
        "    word_dict[word_1] = [word_2]\n",
        "    \n",
        "    \n",
        "#generacja\n",
        "    \n",
        "first_word = np.random.choice(slowa)\n",
        "\n",
        "while first_word.islower():\n",
        "  first_word = np.random.choice(slowa)\n",
        "\n",
        "chain = [first_word]\n",
        "\n",
        "n_words = 10\n",
        "\n",
        "for i in range(n_words):\n",
        "  chain.append(np.random.choice(word_dict[chain[-1]]))\n",
        "\n",
        "' '.join(chain)"
      ],
      "execution_count": 25,
      "outputs": [
        {
          "output_type": "execute_result",
          "data": {
            "text/plain": [
              "'Protazego wnosić można małżeństwem. Stąd droga jegomości; Tylko poprawił kaptur, i'"
            ]
          },
          "metadata": {
            "tags": []
          },
          "execution_count": 25
        }
      ]
    },
    {
      "cell_type": "code",
      "metadata": {
        "id": "QUDkI8RDEmvm",
        "colab_type": "code",
        "colab": {
          "base_uri": "https://localhost:8080/",
          "height": 74
        },
        "outputId": "ee2a4963-2c6d-4177-bb7e-b121e3669d59"
      },
      "source": [
        "\n",
        "import numpy as np\n",
        "\n",
        "#wczytanie do programu tekstu Pana Tadeusza\n",
        "tadeusz = open('pan_tadeusz.txt', encoding='utf8').read()\n",
        "\n",
        "#podzielenie tekstu na poszczególne \"słowa\"\n",
        "slowa = tadeusz.split()\n",
        "\n",
        "# połączenie słów w pary\n",
        "pairs = []\n",
        "for i in range(len(slowa)-1):\n",
        "  pairs.append([slowa[i],slowa[i+1]])\n",
        "  \n",
        "# połaczenie słów w trójki\n",
        "trios = []\n",
        "for i in range(len(slowa)-2):\n",
        "  trios.append([slowa[i],slowa[i+1],slowa[i+2]])  \n",
        "\n",
        "#stworzenie słownika z prefiksami i suffiksami\n",
        "word_dict = {}\n",
        "\n",
        "for word_1, word_2 in pairs:\n",
        "  if word_1 in word_dict.keys():\n",
        "    word_dict[word_1].append(word_2)\n",
        "  else:\n",
        "    word_dict[word_1] = [word_2]\n",
        "\n",
        "for trio in trios:\n",
        "  prefix = trio[0] + ' ' + trio[1]\n",
        "  suffix = trio[2]\n",
        "  if prefix in word_dict.keys():\n",
        "    word_dict[prefix].append(suffix)\n",
        "  else:\n",
        "    word_dict[prefix] = [suffix]\n",
        "\n",
        "\n",
        "    \n",
        "    \n",
        "#generacja\n",
        "    \n",
        "first_word = np.random.choice(slowa)\n",
        "\n",
        "while first_word.islower():\n",
        "  first_word = np.random.choice(slowa)\n",
        "  \n",
        "second_word = np.random.choice(word_dict[first_word])\n",
        "\n",
        "chain = [first_word, second_word]\n",
        "\n",
        "n_words = 50\n",
        "\n",
        "for i in range(n_words):\n",
        "  chain.append(np.random.choice(word_dict[chain[-2]+' '+chain[-1]]))\n",
        "\n",
        "' '.join(chain)"
      ],
      "execution_count": 37,
      "outputs": [
        {
          "output_type": "execute_result",
          "data": {
            "text/plain": [
              "'Czapka z uszami, sznurkiem u wierzchu związana, Wznosi się nad ojczystym krajem. A przecież się uwalniał; wiedział o sposobie Rwania więzów, był silny bardzo, ufał sobie. Przemyślał ratować się milczkiem. Oczy zmrużył, Niby śpi; z wolna ustępował, Zniknął z oczu, W inne strony wyjechać, mieszkać na uboczu Lub, co lepsza, wynieść się'"
            ]
          },
          "metadata": {
            "tags": []
          },
          "execution_count": 37
        }
      ]
    }
  ]
}