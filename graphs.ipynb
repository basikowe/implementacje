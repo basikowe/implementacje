{
  "nbformat": 4,
  "nbformat_minor": 0,
  "metadata": {
    "colab": {
      "name": "graphs.ipynb",
      "provenance": [],
      "include_colab_link": true
    },
    "kernelspec": {
      "name": "python3",
      "display_name": "Python 3"
    }
  },
  "cells": [
    {
      "cell_type": "markdown",
      "metadata": {
        "id": "view-in-github",
        "colab_type": "text"
      },
      "source": [
        "<a href=\"https://colab.research.google.com/github/lodygaw/przykladowe_implementacje/blob/master/graphs.ipynb\" target=\"_parent\"><img src=\"https://colab.research.google.com/assets/colab-badge.svg\" alt=\"Open In Colab\"/></a>"
      ]
    },
    {
      "cell_type": "code",
      "metadata": {
        "id": "D6ZrVQtMKO_i",
        "colab_type": "code",
        "colab": {}
      },
      "source": [
        "class Graph(object):\n",
        "\n",
        "    def __init__(self, graph_dict=None):\n",
        "        \"\"\" \n",
        "        Inicjalizacja obiektu klasy Graph\n",
        "        Jeśli nie podano słownika, będzie zainicjalizowany jako pusty\n",
        "        \"\"\"\n",
        "        if graph_dict == None:\n",
        "            graph_dict = {}\n",
        "        self.__graph_dict = graph_dict\n",
        "\n",
        "    def vertices(self):\n",
        "        \"\"\" \n",
        "        Zwraca listę wierzchołków grafu \n",
        "        \"\"\"\n",
        "        return list(self.__graph_dict.keys())\n",
        "\n",
        "    def edges(self):\n",
        "        \"\"\" \n",
        "        Zwraca listę krawędzi grafu \n",
        "        \"\"\"\n",
        "        return self.__generate_edges()\n",
        "\n",
        "    def add_vertex(self, vertex):\n",
        "        \"\"\" \n",
        "        Dodawanie nowego wierzchołka\n",
        "        \"\"\"\n",
        "        if vertex not in self.__graph_dict:\n",
        "            self.__graph_dict[vertex] = []\n",
        "\n",
        "    def add_edge(self, edge):\n",
        "        \"\"\" \n",
        "        Dodawanie nowej krawędzi\n",
        "        \"\"\"\n",
        "        edge = set(edge)\n",
        "        (vertex1, vertex2) = tuple(edge)\n",
        "        if vertex1 in self.__graph_dict:\n",
        "            self.__graph_dict[vertex1].append(vertex2)\n",
        "        else:\n",
        "            self.__graph_dict[vertex1] = [vertex2]\n",
        "\n",
        "    def __generate_edges(self):\n",
        "        \"\"\" \n",
        "        Funkcja pomocna przy wyświetlaniu wszystkich krawędzi\n",
        "        \"\"\"\n",
        "        edges = []\n",
        "        for vertex in self.__graph_dict:\n",
        "            for neighbour in self.__graph_dict[vertex]:\n",
        "                if (neighbour, vertex) not in edges:\n",
        "                    edges.append((vertex, neighbour))\n",
        "        return edges\n",
        "\n",
        "    def __str__(self):\n",
        "        res = \"wierzchołki: \"\n",
        "        for k in self.__graph_dict:\n",
        "            res += str(k) + \" \"\n",
        "        res += \"\\nkrawędzie: \"\n",
        "        for edge in self.__generate_edges():\n",
        "            res += str(edge) + \" \"\n",
        "        return res\n",
        "      \n",
        "\n",
        "      "
      ],
      "execution_count": 0,
      "outputs": []
    },
    {
      "cell_type": "code",
      "metadata": {
        "id": "Vn0R_GbLMWoP",
        "colab_type": "code",
        "colab": {
          "base_uri": "https://localhost:8080/",
          "height": 51
        },
        "outputId": "83b1ccec-85c7-40df-bf90-af212b4bd85b"
      },
      "source": [
        "g = { \"a\" : [\"d\"],\n",
        "      \"b\" : [\"c\"],\n",
        "      \"c\" : [\"b\", \"c\", \"d\", \"e\"],\n",
        "      \"d\" : [\"a\", \"c\"],\n",
        "      \"e\" : [\"c\"],\n",
        "      \"f\" : []\n",
        "    }\n",
        "\n",
        "graf = Graph(g)\n",
        "print(graf)"
      ],
      "execution_count": 20,
      "outputs": [
        {
          "output_type": "stream",
          "text": [
            "wierzchołki: a b c d e f \n",
            "krawędzie: ('a', 'd') ('b', 'c') ('c', 'c') ('c', 'd') ('c', 'e') \n"
          ],
          "name": "stdout"
        }
      ]
    },
    {
      "cell_type": "code",
      "metadata": {
        "id": "P7AFbYQrMmYw",
        "colab_type": "code",
        "colab": {}
      },
      "source": [
        "class Graph(object):\n",
        "\n",
        "    def __init__(self, graph_dict=None):\n",
        "        \"\"\" \n",
        "        Inicjalizacja obiektu klasy Graph\n",
        "        Jeśli nie podano słownika, będzie zainicjalizowany jako pusty\n",
        "        \"\"\"\n",
        "        if graph_dict == None:\n",
        "            graph_dict = {}\n",
        "        self.__graph_dict = graph_dict\n",
        "\n",
        "    def vertices(self):\n",
        "        \"\"\" \n",
        "        Zwraca listę wierzchołków grafu \n",
        "        \"\"\"\n",
        "        return list(self.__graph_dict.keys())\n",
        "\n",
        "    def edges(self):\n",
        "        \"\"\" \n",
        "        Zwraca listę krawędzi grafu \n",
        "        \"\"\"\n",
        "        return self.__generate_edges()\n",
        "\n",
        "    def add_vertex(self, vertex):\n",
        "        \"\"\" \n",
        "        Dodawanie nowego wierzchołka\n",
        "        \"\"\"\n",
        "        if vertex not in self.__graph_dict:\n",
        "            self.__graph_dict[vertex] = []\n",
        "\n",
        "    # zmiana w metodzie add_edge:\n",
        "    # dodajemy nowy argument wywołania - weight\n",
        "    # modyfikujemy słownik grafu tak, aby waga krawędzi była w nim również zapisana\n",
        "    def add_edge(self, edge, weight):\n",
        "        \"\"\" \n",
        "        Dodawanie nowej krawędzi\n",
        "        \"\"\"\n",
        "        edge = set(edge)\n",
        "        (vertex1, vertex2) = tuple(edge)\n",
        "        if vertex1 in self.__graph_dict:\n",
        "            self.__graph_dict[vertex1].append((vertex2,weight))\n",
        "        else:\n",
        "            self.__graph_dict[vertex1] = [(vertex2,weight)]\n",
        "                                              \n",
        "    # zmiana w metodzie __generate_edges:\n",
        "    # należy uwzględnić wagi krawędzi  \n",
        "    def __generate_edges(self):\n",
        "        \"\"\" \n",
        "        Funkcja pomocna przy wyświetlaniu wszystkich krawędzi\n",
        "        \"\"\"\n",
        "        edges = []\n",
        "        for vertex in self.__graph_dict:\n",
        "            for neighbour, weight in self.__graph_dict[vertex]:\n",
        "                if (vertex, neighbour, weight) not in edges:\n",
        "                    edges.append((vertex, neighbour, weight))\n",
        "        return edges\n",
        "      \n",
        "    # dodajmy funkcję wypisującą nam sąsiadów danego węzła\n",
        "    def neighbours(self, vertex):\n",
        "        neighbours_lst = []\n",
        "        for (source, destination, weight) in self.__generate_edges():\n",
        "            if source == vertex:\n",
        "              neighbours_lst.append((destination,weight))\n",
        "        return neighbours_lst\n",
        "\n",
        "    def __str__(self):\n",
        "        res = \"wierzchołki: \"\n",
        "        for k in self.__graph_dict:\n",
        "            res += str(k) + \" \"\n",
        "        res += \"\\nkrawędzie: \"\n",
        "        for edge in self.__generate_edges():\n",
        "            res += str(edge) + \" \"\n",
        "        return res\n",
        "      \n",
        "\n",
        "      "
      ],
      "execution_count": 0,
      "outputs": []
    },
    {
      "cell_type": "code",
      "metadata": {
        "id": "PzAwG776PMJ9",
        "colab_type": "code",
        "colab": {
          "base_uri": "https://localhost:8080/",
          "height": 51
        },
        "outputId": "9f661e6c-a96e-4103-a66d-76fb97c9252f"
      },
      "source": [
        "g2 = { \"a\" : [(\"d\",2)],\n",
        "      \"b\" : [(\"c\",3)],\n",
        "      \"c\" : [(\"b\",2), (\"c\",5), (\"d\",1), (\"e\",3)],\n",
        "      \"d\" : [(\"a\",3), (\"c\",1)],\n",
        "      \"e\" : [(\"c\",5)],\n",
        "      \"f\" : []\n",
        "    }\n",
        "\n",
        "graf2 = Graph(g2)\n",
        "print(graf2)"
      ],
      "execution_count": 72,
      "outputs": [
        {
          "output_type": "stream",
          "text": [
            "wierzchołki: a b c d e f \n",
            "krawędzie: ('a', 'd', 2) ('b', 'c', 3) ('c', 'b', 2) ('c', 'c', 5) ('c', 'd', 1) ('c', 'e', 3) ('d', 'a', 3) ('d', 'c', 1) ('e', 'c', 5) \n"
          ],
          "name": "stdout"
        }
      ]
    },
    {
      "cell_type": "code",
      "metadata": {
        "id": "8p0OXjNnVlno",
        "colab_type": "code",
        "colab": {
          "base_uri": "https://localhost:8080/",
          "height": 34
        },
        "outputId": "2626eebe-efd0-43c6-8fd8-de22f421fad0"
      },
      "source": [
        "graf2.vertices()\n",
        "graf2.edges()\n",
        "graf2.neighbours('d')"
      ],
      "execution_count": 74,
      "outputs": [
        {
          "output_type": "execute_result",
          "data": {
            "text/plain": [
              "[('a', 3), ('c', 1)]"
            ]
          },
          "metadata": {
            "tags": []
          },
          "execution_count": 74
        }
      ]
    },
    {
      "cell_type": "code",
      "metadata": {
        "id": "WOSrI2p3VVyL",
        "colab_type": "code",
        "colab": {}
      },
      "source": [
        "import math\n",
        "from collections import deque\n",
        "\n",
        "def dijkstra(graph, source, dest):\n",
        "\n",
        "        \n",
        "        # oznaczamy odległości od źródła do innych wierzchołków jako nieskończoność\n",
        "        distances = {vertex: math.inf for vertex in graph.vertices()}\n",
        "        \n",
        "        # zapisujemy poprzedników\n",
        "        previous_vertices = {\n",
        "            vertex: None for vertex in graph.vertices()\n",
        "        }\n",
        "        # dystans od źródła do źródła = 0\n",
        "        distances[source] = 0\n",
        "        \n",
        "        # zbór nieodwiedzonych wierzchołków\n",
        "        unvisited_vertices = graph.vertices()\n",
        "\n",
        "        while unvisited_vertices:\n",
        "            # przejdź do wierzchołka, do którego jest najkrótsza droga\n",
        "            # za pierwszym razem będzie to wierzchołek źródłowy\n",
        "            current_vertex = min(\n",
        "                unvisited_vertices, key=lambda vertex: distances[vertex])\n",
        "\n",
        "            # przerwij jeśli dystans do najbliższego węzła wynosi nieskończoność\n",
        "            # to znaczy, że nie ma połączenia do niego\n",
        "            if distances[current_vertex] == math.inf:\n",
        "               break\n",
        "\n",
        "          \n",
        "            # dla każdego z sąsiadów aktualnego wierzchołka oblicz odległość do\n",
        "            # niego poprzez aktualny wierzchołek\n",
        "            for neighbour, cost in graph.neighbours(current_vertex):\n",
        "                alternative_route = distances[current_vertex] + cost\n",
        "\n",
        "                # porównaj obliczoną odległość z wcześniej zapisaną \n",
        "                # (na początku będą to nieskończoności)\n",
        "                # zachowaj mniejszą i zapisz aktualny wierzchołek jako poprzednik sąsiada\n",
        "                if alternative_route < distances[neighbour]:\n",
        "                    distances[neighbour] = alternative_route\n",
        "                    previous_vertices[neighbour] = current_vertex\n",
        "\n",
        "            # usuń aktualny wierzchołek z listy nieodwiedzonych\n",
        "            unvisited_vertices.remove(current_vertex)\n",
        "\n",
        "        path = []\n",
        "        # zacznij od węzła docelowego\n",
        "        current_vertex = dest\n",
        "        \n",
        "        # dopóki istnieją poprzednicy aktualnego węzła\n",
        "        # dodaj aktualny węzeł do ścieżki\n",
        "        # poprzednik staje się aktualnym węzłem\n",
        "        while previous_vertices[current_vertex] is not None:\n",
        "            path.append(current_vertex)\n",
        "            current_vertex = previous_vertices[current_vertex]\n",
        "            \n",
        "        # jeśli istnieje ścieżka to dodaj źródło\n",
        "        if path:\n",
        "            path.append(current_vertex)\n",
        "        # odwróć ścieżkę\n",
        "        path.reverse()\n",
        "        return path"
      ],
      "execution_count": 0,
      "outputs": []
    },
    {
      "cell_type": "code",
      "metadata": {
        "id": "aoZl-C8Qd3li",
        "colab_type": "code",
        "colab": {
          "base_uri": "https://localhost:8080/",
          "height": 34
        },
        "outputId": "5d7f534e-30a1-42fc-863c-892faec21225"
      },
      "source": [
        "dijkstra(graf2,'a','b')\n"
      ],
      "execution_count": 106,
      "outputs": [
        {
          "output_type": "execute_result",
          "data": {
            "text/plain": [
              "['a', 'd', 'c', 'b']"
            ]
          },
          "metadata": {
            "tags": []
          },
          "execution_count": 106
        }
      ]
    }
  ]
}