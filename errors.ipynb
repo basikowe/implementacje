{
  "nbformat": 4,
  "nbformat_minor": 0,
  "metadata": {
    "colab": {
      "name": "errors.ipynb",
      "provenance": [],
      "collapsed_sections": [],
      "include_colab_link": true
    },
    "kernelspec": {
      "name": "python3",
      "display_name": "Python 3"
    }
  },
  "cells": [
    {
      "cell_type": "markdown",
      "metadata": {
        "id": "view-in-github",
        "colab_type": "text"
      },
      "source": [
        "<a href=\"https://colab.research.google.com/github/lodygaw/przykladowe_implementacje/blob/master/errors.ipynb\" target=\"_parent\"><img src=\"https://colab.research.google.com/assets/colab-badge.svg\" alt=\"Open In Colab\"/></a>"
      ]
    },
    {
      "cell_type": "code",
      "metadata": {
        "id": "BgOTCdqksO19",
        "colab_type": "code",
        "colab": {}
      },
      "source": [
        "import numpy as np\n",
        "\n",
        "def markov_text_gen(file,n):\n",
        "  #wczytanie do programu tekstu \n",
        "  tadeusz = open(file, encoding='utf8').read()\n",
        "\n",
        "  #podzielenie tekstu na poszczególne \"słowa\"\n",
        "  slowa = tadeusz.split()\n",
        "\n",
        "  # połączenie słów w pary\n",
        "  pairs = []\n",
        "  for i in range(len(slowa)-1):\n",
        "    pairs.append([slowa[i],slowa[i+1]])\n",
        "\n",
        "  # połaczenie słów w trójki\n",
        "  trios = []\n",
        "  for i in range(len(slowa)-2):\n",
        "    trios.append([slowa[i],slowa[i+1],slowa[i+2]])  \n",
        "\n",
        "  #stworzenie słownika z prefiksami i suffiksami\n",
        "  word_dict = {}\n",
        "\n",
        "  for word_1, word_2 in pairs:\n",
        "    if word_1 in word_dict.keys():\n",
        "      word_dict[word_1].append(word_2)\n",
        "    else:\n",
        "      word_dict[word_1] = [word_2]\n",
        "\n",
        "  for trio in trios:\n",
        "    prefix = trio[0] + ' ' + trio[1]\n",
        "    suffix = trio[2]\n",
        "    if prefix in word_dict.keys():\n",
        "      word_dict[prefix].append(suffix)\n",
        "    else:\n",
        "      word_dict[prefix] = [suffix]\n",
        "\n",
        "\n",
        "  #generacja tekstu\n",
        "\n",
        "  first_word = np.random.choice(slowa)\n",
        "\n",
        "  while first_word.islower():\n",
        "    first_word = np.random.choice(slowa)\n",
        "\n",
        "  second_word = np.random.choice(word_dict[first_word])\n",
        "\n",
        "  chain = [first_word, second_word]\n",
        "\n",
        "  n_words = n\n",
        "\n",
        "  for i in range(n_words):\n",
        "    chain.append(np.random.choice(word_dict[chain[-2]+' '+chain[-1]]))\n",
        "\n",
        "  return ' '.join(chain)\n",
        "  "
      ],
      "execution_count": 0,
      "outputs": []
    },
    {
      "cell_type": "code",
      "metadata": {
        "id": "YC-WKwwmtqsn",
        "colab_type": "code",
        "colab": {
          "base_uri": "https://localhost:8080/",
          "height": 74
        },
        "outputId": "351fcea3-087d-4cc8-ccdb-ee6efba7fd43"
      },
      "source": [
        "markov_text_gen('pan_tadeusz.txt',200)"
      ],
      "execution_count": 20,
      "outputs": [
        {
          "output_type": "execute_result",
          "data": {
            "text/plain": [
              "'Znaczyło po staremu być tchórzem nad tchórze; Toż wystrzelić na oślep (jak to robi wielu), Nie przypuściwszy źwierza, nie wziąwszy do celu, Jest rzecz haniebna; ale kto dobrze wymierzy, Kto przypuści do siebie ze wsi przychodzić muzyce, Przy której i basetla była, i kozice. Muzykę znał, sam słynął muzycznym talentem; Z cymbałami, narodu swego instrumentem, Chadzał niegdyś po dworach i graniem zdumiewał, I pieśniami, bo biegle i uczenie śpiewał. Chociaż Żyd, dosyć czystą miał polską wymowę, Szczególniej zaś polubił pieśni narodowe; Przywoził mnóstwo z każdej za Niemen wyprawy, Kołomyjek z Halicza, mazurów z Warszawy; Wieść, nie wiem czyli pewna, w całej przyszłości, Jedna już tylko dziś kraina taka, W której jest Horeszkowskie stołowe naczynie, Przy tym dla Telimeny ma już obowiązki… Mężczyźni, póki młodzi, chociaż w wielkim mieście żyłam, To dawno, zapomniałam, wieś zawsze lubiłam; I wierz mi, kląć was kiedyś będzie! Zakopać taki talent w lasach i w wianki, Ołtarz, obraz, a nawet dzwonica i ganki. Czasem poranny wietrzyk, gdy ze wschodu wionie, Zrywa wianki i rzuca na klęczących skronie, I rozlewa jak z warkocza wstęgi; I słońce usta sennych promykiem poranka Drażni jak dziewczę kłosem budzące kochanka. Już wróble skacząc, świerkać zaczęły pod strzechą; Już trzykroć gęgnął gąsior, a za'"
            ]
          },
          "metadata": {
            "tags": []
          },
          "execution_count": 20
        }
      ]
    },
    {
      "cell_type": "code",
      "metadata": {
        "id": "3Tb7h0Mqt4vt",
        "colab_type": "code",
        "colab": {
          "base_uri": "https://localhost:8080/",
          "height": 283
        },
        "outputId": "ea80292a-cc39-402b-ec7a-7a6a6034f95a"
      },
      "source": [
        "#markov_text_gen('pantadeusz.txt',200)\n",
        "markov_text_gen('pan_tadeusz.txt','dwiescie')"
      ],
      "execution_count": 21,
      "outputs": [
        {
          "output_type": "error",
          "ename": "TypeError",
          "evalue": "ignored",
          "traceback": [
            "\u001b[0;31m---------------------------------------------------------------------------\u001b[0m",
            "\u001b[0;31mTypeError\u001b[0m                                 Traceback (most recent call last)",
            "\u001b[0;32m<ipython-input-21-b1daed131354>\u001b[0m in \u001b[0;36m<module>\u001b[0;34m()\u001b[0m\n\u001b[0;32m----> 1\u001b[0;31m \u001b[0mmarkov_text_gen\u001b[0m\u001b[0;34m(\u001b[0m\u001b[0;34m'pan_tadeusz.txt'\u001b[0m\u001b[0;34m,\u001b[0m\u001b[0;34m'dwiescie'\u001b[0m\u001b[0;34m)\u001b[0m\u001b[0;34m\u001b[0m\u001b[0;34m\u001b[0m\u001b[0m\n\u001b[0m",
            "\u001b[0;32m<ipython-input-19-1cb5075e53bc>\u001b[0m in \u001b[0;36mmarkov_text_gen\u001b[0;34m(file, n)\u001b[0m\n\u001b[1;32m     49\u001b[0m   \u001b[0mn_words\u001b[0m \u001b[0;34m=\u001b[0m \u001b[0mn\u001b[0m\u001b[0;34m\u001b[0m\u001b[0;34m\u001b[0m\u001b[0m\n\u001b[1;32m     50\u001b[0m \u001b[0;34m\u001b[0m\u001b[0m\n\u001b[0;32m---> 51\u001b[0;31m   \u001b[0;32mfor\u001b[0m \u001b[0mi\u001b[0m \u001b[0;32min\u001b[0m \u001b[0mrange\u001b[0m\u001b[0;34m(\u001b[0m\u001b[0mn_words\u001b[0m\u001b[0;34m)\u001b[0m\u001b[0;34m:\u001b[0m\u001b[0;34m\u001b[0m\u001b[0;34m\u001b[0m\u001b[0m\n\u001b[0m\u001b[1;32m     52\u001b[0m     \u001b[0mchain\u001b[0m\u001b[0;34m.\u001b[0m\u001b[0mappend\u001b[0m\u001b[0;34m(\u001b[0m\u001b[0mnp\u001b[0m\u001b[0;34m.\u001b[0m\u001b[0mrandom\u001b[0m\u001b[0;34m.\u001b[0m\u001b[0mchoice\u001b[0m\u001b[0;34m(\u001b[0m\u001b[0mword_dict\u001b[0m\u001b[0;34m[\u001b[0m\u001b[0mchain\u001b[0m\u001b[0;34m[\u001b[0m\u001b[0;34m-\u001b[0m\u001b[0;36m2\u001b[0m\u001b[0;34m]\u001b[0m\u001b[0;34m+\u001b[0m\u001b[0;34m' '\u001b[0m\u001b[0;34m+\u001b[0m\u001b[0mchain\u001b[0m\u001b[0;34m[\u001b[0m\u001b[0;34m-\u001b[0m\u001b[0;36m1\u001b[0m\u001b[0;34m]\u001b[0m\u001b[0;34m]\u001b[0m\u001b[0;34m)\u001b[0m\u001b[0;34m)\u001b[0m\u001b[0;34m\u001b[0m\u001b[0;34m\u001b[0m\u001b[0m\n\u001b[1;32m     53\u001b[0m \u001b[0;34m\u001b[0m\u001b[0m\n",
            "\u001b[0;31mTypeError\u001b[0m: 'str' object cannot be interpreted as an integer"
          ]
        }
      ]
    },
    {
      "cell_type": "code",
      "metadata": {
        "id": "g7UAI74Nv1T6",
        "colab_type": "code",
        "colab": {}
      },
      "source": [
        "import numpy as np\n",
        "\n",
        "def markov_text_gen_better(file,n):\n",
        "  #wczytanie do programu tekstu \n",
        "  try:\n",
        "    tadeusz = open(file, encoding='utf8').read()\n",
        "  except FileNotFoundError as e:\n",
        "    print('Nie ma takiego pliku!')\n",
        "    return\n",
        "\n",
        "  #podzielenie tekstu na poszczególne \"słowa\"\n",
        "  slowa = tadeusz.split()\n",
        "\n",
        "  # połączenie słów w pary\n",
        "  pairs = []\n",
        "  for i in range(len(slowa)-1):\n",
        "    pairs.append([slowa[i],slowa[i+1]])\n",
        "\n",
        "  # połaczenie słów w trójki\n",
        "  trios = []\n",
        "  for i in range(len(slowa)-2):\n",
        "    trios.append([slowa[i],slowa[i+1],slowa[i+2]])  \n",
        "\n",
        "  #stworzenie słownika z prefiksami i suffiksami\n",
        "  word_dict = {}\n",
        "\n",
        "  for word_1, word_2 in pairs:\n",
        "    if word_1 in word_dict.keys():\n",
        "      word_dict[word_1].append(word_2)\n",
        "    else:\n",
        "      word_dict[word_1] = [word_2]\n",
        "\n",
        "  for trio in trios:\n",
        "    prefix = trio[0] + ' ' + trio[1]\n",
        "    suffix = trio[2]\n",
        "    if prefix in word_dict.keys():\n",
        "      word_dict[prefix].append(suffix)\n",
        "    else:\n",
        "      word_dict[prefix] = [suffix]\n",
        "\n",
        "\n",
        "  #generacja tekstu\n",
        "\n",
        "  first_word = np.random.choice(slowa)\n",
        "\n",
        "  while first_word.islower():\n",
        "    first_word = np.random.choice(slowa)\n",
        "\n",
        "  second_word = np.random.choice(word_dict[first_word])\n",
        "\n",
        "  chain = [first_word, second_word]\n",
        "\n",
        "  n_words = n\n",
        "  try:\n",
        "    for i in range(n_words):\n",
        "      chain.append(np.random.choice(word_dict[chain[-2]+' '+chain[-1]]))\n",
        "  except TypeError as e:\n",
        "    print('\\n\\nERROR:' + str(e)+'\\n\\n')\n",
        "    print('Jako drugi argument musisz podać liczbę! Wyświetlam tylko 10 słów!')\n",
        "    for i in range(10):\n",
        "      chain.append(np.random.choice(word_dict[chain[-2]+' '+chain[-1]]))    \n",
        "\n",
        "  return ' '.join(chain)\n",
        "  "
      ],
      "execution_count": 0,
      "outputs": []
    },
    {
      "cell_type": "code",
      "metadata": {
        "id": "juTQG0UvwLNM",
        "colab_type": "code",
        "colab": {
          "base_uri": "https://localhost:8080/",
          "height": 153
        },
        "outputId": "8ac90acd-723b-4f71-f5c2-967387538a6b"
      },
      "source": [
        "markov_text_gen_better('pantadeusz.txt',200)\n",
        "markov_text_gen_better('pan_tadeusz.txt','dwiescie')"
      ],
      "execution_count": 38,
      "outputs": [
        {
          "output_type": "stream",
          "text": [
            "Nie ma takiego pliku!\n",
            "\n",
            "\n",
            "ERROR:'str' object cannot be interpreted as an integer\n",
            "\n",
            "\n",
            "Jako drugi argument musisz podać liczbę! Wyświetlam tylko 10 słów!\n"
          ],
          "name": "stdout"
        },
        {
          "output_type": "execute_result",
          "data": {
            "text/plain": [
              "'Henryk Dąbrowski udał wielkie zadziwienie I rzekł: «Sędzio, to bieda nam z'"
            ]
          },
          "metadata": {
            "tags": []
          },
          "execution_count": 38
        }
      ]
    }
  ]
}